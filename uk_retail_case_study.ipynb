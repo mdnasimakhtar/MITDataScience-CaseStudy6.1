{
 "cells": [
  {
   "cell_type": "markdown",
   "metadata": {},
   "source": [
    "# Prediction engineering case study using UK Retail Dataset \n",
    "\n",
    "In this case study, we will study prediction engineering. Prediction engineering is a step in predictive modeling where we:\n",
    "* Define an outome we are interested in predicting \n",
    "* Scan the data to find the past occurences of the outcome\n",
    "* Make these past occurences training examples for machine learning/modeling\n",
    "\n",
    "We will then use [featuretools](featuretools.com) to extract features and learn a predictive model. \n",
    "\n",
    "In this particular casestudy, we are focusing a retail dataset openly available at http://archive.ics.uci.edu/ml/datasets/online+retail\n",
    "\n",
    "We will define the prediction problem as the one where the customer has more than ``k`` purchases"
   ]
  },
  {
   "cell_type": "code",
   "execution_count": 1,
   "metadata": {
    "collapsed": false
   },
   "outputs": [
    {
     "data": {
      "text/plain": [
       "'0.1.14'"
      ]
     },
     "execution_count": 1,
     "metadata": {},
     "output_type": "execute_result"
    }
   ],
   "source": [
    "import featuretools as ft\n",
    "from utils import (find_training_examples, load_uk_retail_data, \n",
    "                   engineer_features_uk_retail, preview, feature_importances)\n",
    "import pandas as pd\n",
    "from sklearn.model_selection import train_test_split\n",
    "from sklearn.preprocessing import Imputer\n",
    "from sklearn.ensemble import RandomForestClassifier\n",
    "from sklearn.metrics import confusion_matrix\n",
    "ft.__version__"
   ]
  },
  {
   "cell_type": "markdown",
   "metadata": {},
   "source": [
    "# Step 1:  Load and prepare data \n",
    "<p>If you have not yet downloaded the data it can be downloaded <a href=\"https://s3.amazonaws.com/mit-dsx-data/uk-retail-data.zip\">from S3</a>. Once you have downloaded the archive, unzip it and place the uk-retail-data folder in the same directory as this script. \n",
    "</p>"
   ]
  },
  {
   "cell_type": "code",
   "execution_count": 2,
   "metadata": {
    "collapsed": false
   },
   "outputs": [],
   "source": [
    "item_purchases, invoices, items, customers = load_uk_retail_data()"
   ]
  },
  {
   "cell_type": "markdown",
   "metadata": {},
   "source": [
    "The dataset has the following tables:\n",
    "* ``item_purchases``\n",
    "* ``invoices``\n",
    "* ``items``\n",
    "* ``customers``\n",
    "\n",
    "The following relations exist\n",
    "* A customer may have multiple invoices \n",
    "* An item may have been purchased multiple times \n",
    "* An invoice may have multiple item purchases "
   ]
  },
  {
   "cell_type": "code",
   "execution_count": 3,
   "metadata": {
    "collapsed": true
   },
   "outputs": [],
   "source": [
    "entities = {\n",
    "        \"item_purchases\": (item_purchases, \"item_purchase_id\", \"InvoiceDate\" ),\n",
    "        \"items\": (items, \"StockCode\"),\n",
    "        \"customers\": (customers,\"CustomerID\"),\n",
    "        \"invoices\":(invoices,\"InvoiceNo\", \"first_item_purchases_time\")\n",
    "        }\n",
    "\n",
    "relationships = [(\"customers\", \"CustomerID\",\"invoices\", \"CustomerID\"), \n",
    "                (\"invoices\", \"InvoiceNo\",\"item_purchases\", \"InvoiceNo\"),\n",
    "                (\"items\", \"StockCode\",\"item_purchases\", \"StockCode\")]"
   ]
  },
  {
   "cell_type": "markdown",
   "metadata": {},
   "source": [
    "# Step 2 : Find training examples"
   ]
  },
  {
   "cell_type": "markdown",
   "metadata": {},
   "source": [
    "In the code snippet below, we are trying to find training examples from the data. We set the following parameters:\n",
    "* ``prediction_window``=14 days \n",
    "* ``training_window``=21 days\n",
    "* ``lead`` = 7 days\n",
    "* ``threshold``=2 --> specifies the number of purchases that the customer need to have in the future to be considered engaged"
   ]
  },
  {
   "cell_type": "code",
   "execution_count": 4,
   "metadata": {
    "collapsed": true
   },
   "outputs": [],
   "source": [
    "label_times = find_training_examples(item_purchases, invoices,\n",
    "                                     prediction_window=pd.Timedelta(\"14d\"),\n",
    "                                     training_window=pd.Timedelta(\"21d\"),\n",
    "                                     lead=pd.Timedelta(\"7d\"),\n",
    "                                     threshold=5)"
   ]
  },
  {
   "cell_type": "code",
   "execution_count": 5,
   "metadata": {
    "collapsed": false
   },
   "outputs": [
    {
     "data": {
      "text/html": [
       "<div>\n",
       "<style>\n",
       "    .dataframe thead tr:only-child th {\n",
       "        text-align: right;\n",
       "    }\n",
       "\n",
       "    .dataframe thead th {\n",
       "        text-align: left;\n",
       "    }\n",
       "\n",
       "    .dataframe tbody tr th {\n",
       "        vertical-align: top;\n",
       "    }\n",
       "</style>\n",
       "<table border=\"1\" class=\"dataframe\">\n",
       "  <thead>\n",
       "    <tr style=\"text-align: right;\">\n",
       "      <th></th>\n",
       "      <th>CustomerID</th>\n",
       "      <th>t_start</th>\n",
       "      <th>cutoff_time</th>\n",
       "      <th>purchases&gt;threshold</th>\n",
       "    </tr>\n",
       "  </thead>\n",
       "  <tbody>\n",
       "    <tr>\n",
       "      <th>0</th>\n",
       "      <td>17505.0</td>\n",
       "      <td>2011-05-18</td>\n",
       "      <td>2011-06-08</td>\n",
       "      <td>False</td>\n",
       "    </tr>\n",
       "    <tr>\n",
       "      <th>2</th>\n",
       "      <td>13592.0</td>\n",
       "      <td>2011-05-18</td>\n",
       "      <td>2011-06-08</td>\n",
       "      <td>False</td>\n",
       "    </tr>\n",
       "    <tr>\n",
       "      <th>3</th>\n",
       "      <td>13650.0</td>\n",
       "      <td>2011-05-18</td>\n",
       "      <td>2011-06-08</td>\n",
       "      <td>False</td>\n",
       "    </tr>\n",
       "    <tr>\n",
       "      <th>4</th>\n",
       "      <td>13756.0</td>\n",
       "      <td>2011-05-18</td>\n",
       "      <td>2011-06-08</td>\n",
       "      <td>False</td>\n",
       "    </tr>\n",
       "    <tr>\n",
       "      <th>5</th>\n",
       "      <td>16116.0</td>\n",
       "      <td>2011-05-18</td>\n",
       "      <td>2011-06-08</td>\n",
       "      <td>False</td>\n",
       "    </tr>\n",
       "  </tbody>\n",
       "</table>\n",
       "</div>"
      ],
      "text/plain": [
       "   CustomerID    t_start cutoff_time  purchases>threshold\n",
       "0     17505.0 2011-05-18  2011-06-08                False\n",
       "2     13592.0 2011-05-18  2011-06-08                False\n",
       "3     13650.0 2011-05-18  2011-06-08                False\n",
       "4     13756.0 2011-05-18  2011-06-08                False\n",
       "5     16116.0 2011-05-18  2011-06-08                False"
      ]
     },
     "execution_count": 5,
     "metadata": {},
     "output_type": "execute_result"
    }
   ],
   "source": [
    "preview(label_times, 5)"
   ]
  },
  {
   "cell_type": "markdown",
   "metadata": {},
   "source": [
    "In the output above, we are showing the first 5 training examples. The first column is the CustomerID, the second column is the timestamp after which we can use the data for generating features. The third column is the last timestamp we can use the data from the customer. The fourth column is the label. It is ``True`` if the customer had more than 5 purchases in the period between (``cutoff_time``, ``cutoff_time + prediction_window``)"
   ]
  },
  {
   "cell_type": "markdown",
   "metadata": {},
   "source": [
    "# Step 3: Now lets generate features. \n",
    "Next we generate features for each of the training examples. We use featuretools to generate the features. Featuretools is an automated feature engineering software. We go into detail about this software package in the NYC-Taxi case study. Here we simply use the tool to generate features. "
   ]
  },
  {
   "cell_type": "code",
   "execution_count": 6,
   "metadata": {
    "collapsed": true
   },
   "outputs": [],
   "source": [
    "feature_matrix = engineer_features_uk_retail(entities, relationships,\n",
    "                                             label_times, training_window='21d')"
   ]
  },
  {
   "cell_type": "code",
   "execution_count": 7,
   "metadata": {
    "collapsed": false
   },
   "outputs": [
    {
     "data": {
      "text/html": [
       "<div>\n",
       "<style>\n",
       "    .dataframe thead tr:only-child th {\n",
       "        text-align: right;\n",
       "    }\n",
       "\n",
       "    .dataframe thead th {\n",
       "        text-align: left;\n",
       "    }\n",
       "\n",
       "    .dataframe tbody tr th {\n",
       "        vertical-align: top;\n",
       "    }\n",
       "</style>\n",
       "<table border=\"1\" class=\"dataframe\">\n",
       "  <thead>\n",
       "    <tr style=\"text-align: right;\">\n",
       "      <th></th>\n",
       "      <th>WEEK(first_invoices_time)</th>\n",
       "      <th>HOUR(first_invoices_time)</th>\n",
       "      <th>MAX(item_purchases.Quantity)</th>\n",
       "      <th>STD(item_purchases.UnitPrice)</th>\n",
       "      <th>DAY(first_invoices_time)</th>\n",
       "      <th>IS_WEEKEND(first_invoices_time)</th>\n",
       "      <th>MINUTE(first_invoices_time)</th>\n",
       "      <th>MONTH(first_invoices_time)</th>\n",
       "      <th>MAX(item_purchases.UnitPrice)</th>\n",
       "      <th>MEAN(item_purchases.Quantity)</th>\n",
       "      <th>...</th>\n",
       "      <th>MAX(invoices.STD(item_purchases.UnitPrice))</th>\n",
       "      <th>STD(invoices.MAX(item_purchases.Quantity))</th>\n",
       "      <th>MEAN(invoices.STD(item_purchases.UnitPrice))</th>\n",
       "      <th>MAX(invoices.MEAN(item_purchases.Quantity))</th>\n",
       "      <th>MAX(invoices.STD(item_purchases.Quantity))</th>\n",
       "      <th>MEAN(invoices.MAX(item_purchases.UnitPrice))</th>\n",
       "      <th>MEAN(invoices.MAX(item_purchases.Quantity))</th>\n",
       "      <th>MEAN(invoices.MEAN(item_purchases.Quantity))</th>\n",
       "      <th>STD(invoices.MAX(item_purchases.UnitPrice))</th>\n",
       "      <th>STD(invoices.MEAN(item_purchases.UnitPrice))</th>\n",
       "    </tr>\n",
       "    <tr>\n",
       "      <th>CustomerID</th>\n",
       "      <th></th>\n",
       "      <th></th>\n",
       "      <th></th>\n",
       "      <th></th>\n",
       "      <th></th>\n",
       "      <th></th>\n",
       "      <th></th>\n",
       "      <th></th>\n",
       "      <th></th>\n",
       "      <th></th>\n",
       "      <th></th>\n",
       "      <th></th>\n",
       "      <th></th>\n",
       "      <th></th>\n",
       "      <th></th>\n",
       "      <th></th>\n",
       "      <th></th>\n",
       "      <th></th>\n",
       "      <th></th>\n",
       "      <th></th>\n",
       "      <th></th>\n",
       "    </tr>\n",
       "  </thead>\n",
       "  <tbody>\n",
       "    <tr>\n",
       "      <th>12353.0</th>\n",
       "      <td>20</td>\n",
       "      <td>17</td>\n",
       "      <td>8</td>\n",
       "      <td>3.911122</td>\n",
       "      <td>19</td>\n",
       "      <td>False</td>\n",
       "      <td>47</td>\n",
       "      <td>5</td>\n",
       "      <td>9.95</td>\n",
       "      <td>5.000000</td>\n",
       "      <td>...</td>\n",
       "      <td>3.911122</td>\n",
       "      <td>0.0</td>\n",
       "      <td>3.911122</td>\n",
       "      <td>5.000000</td>\n",
       "      <td>2.236068</td>\n",
       "      <td>9.95</td>\n",
       "      <td>8.0</td>\n",
       "      <td>5.000000</td>\n",
       "      <td>0.0</td>\n",
       "      <td>0.00000</td>\n",
       "    </tr>\n",
       "    <tr>\n",
       "      <th>16182.0</th>\n",
       "      <td>7</td>\n",
       "      <td>10</td>\n",
       "      <td>200</td>\n",
       "      <td>0.065997</td>\n",
       "      <td>18</td>\n",
       "      <td>False</td>\n",
       "      <td>11</td>\n",
       "      <td>2</td>\n",
       "      <td>1.79</td>\n",
       "      <td>166.666667</td>\n",
       "      <td>...</td>\n",
       "      <td>0.065997</td>\n",
       "      <td>0.0</td>\n",
       "      <td>0.065997</td>\n",
       "      <td>166.666667</td>\n",
       "      <td>47.140452</td>\n",
       "      <td>1.79</td>\n",
       "      <td>200.0</td>\n",
       "      <td>166.666667</td>\n",
       "      <td>0.0</td>\n",
       "      <td>0.00000</td>\n",
       "    </tr>\n",
       "    <tr>\n",
       "      <th>16186.0</th>\n",
       "      <td>48</td>\n",
       "      <td>14</td>\n",
       "      <td>24</td>\n",
       "      <td>1.349716</td>\n",
       "      <td>2</td>\n",
       "      <td>False</td>\n",
       "      <td>40</td>\n",
       "      <td>12</td>\n",
       "      <td>6.25</td>\n",
       "      <td>13.625000</td>\n",
       "      <td>...</td>\n",
       "      <td>1.349716</td>\n",
       "      <td>0.0</td>\n",
       "      <td>1.349716</td>\n",
       "      <td>13.625000</td>\n",
       "      <td>5.109733</td>\n",
       "      <td>6.25</td>\n",
       "      <td>24.0</td>\n",
       "      <td>13.625000</td>\n",
       "      <td>0.0</td>\n",
       "      <td>0.00000</td>\n",
       "    </tr>\n",
       "    <tr>\n",
       "      <th>16187.0</th>\n",
       "      <td>9</td>\n",
       "      <td>13</td>\n",
       "      <td>30</td>\n",
       "      <td>3.168892</td>\n",
       "      <td>28</td>\n",
       "      <td>False</td>\n",
       "      <td>34</td>\n",
       "      <td>2</td>\n",
       "      <td>16.95</td>\n",
       "      <td>15.166667</td>\n",
       "      <td>...</td>\n",
       "      <td>6.798299</td>\n",
       "      <td>11.0</td>\n",
       "      <td>3.736879</td>\n",
       "      <td>16.900000</td>\n",
       "      <td>6.048967</td>\n",
       "      <td>9.95</td>\n",
       "      <td>19.0</td>\n",
       "      <td>11.700000</td>\n",
       "      <td>7.0</td>\n",
       "      <td>1.87775</td>\n",
       "    </tr>\n",
       "    <tr>\n",
       "      <th>16209.0</th>\n",
       "      <td>14</td>\n",
       "      <td>12</td>\n",
       "      <td>48</td>\n",
       "      <td>1.263808</td>\n",
       "      <td>7</td>\n",
       "      <td>False</td>\n",
       "      <td>23</td>\n",
       "      <td>4</td>\n",
       "      <td>5.95</td>\n",
       "      <td>16.058824</td>\n",
       "      <td>...</td>\n",
       "      <td>1.263808</td>\n",
       "      <td>0.0</td>\n",
       "      <td>1.263808</td>\n",
       "      <td>16.058824</td>\n",
       "      <td>10.026263</td>\n",
       "      <td>5.95</td>\n",
       "      <td>48.0</td>\n",
       "      <td>16.058824</td>\n",
       "      <td>0.0</td>\n",
       "      <td>0.00000</td>\n",
       "    </tr>\n",
       "    <tr>\n",
       "      <th>16218.0</th>\n",
       "      <td>48</td>\n",
       "      <td>11</td>\n",
       "      <td>-1</td>\n",
       "      <td>2.456296</td>\n",
       "      <td>1</td>\n",
       "      <td>False</td>\n",
       "      <td>29</td>\n",
       "      <td>12</td>\n",
       "      <td>8.15</td>\n",
       "      <td>-1.833333</td>\n",
       "      <td>...</td>\n",
       "      <td>2.456296</td>\n",
       "      <td>0.0</td>\n",
       "      <td>2.456296</td>\n",
       "      <td>-1.833333</td>\n",
       "      <td>1.067187</td>\n",
       "      <td>8.15</td>\n",
       "      <td>-1.0</td>\n",
       "      <td>-1.833333</td>\n",
       "      <td>0.0</td>\n",
       "      <td>0.00000</td>\n",
       "    </tr>\n",
       "    <tr>\n",
       "      <th>16226.0</th>\n",
       "      <td>16</td>\n",
       "      <td>12</td>\n",
       "      <td>12</td>\n",
       "      <td>0.000000</td>\n",
       "      <td>18</td>\n",
       "      <td>False</td>\n",
       "      <td>58</td>\n",
       "      <td>4</td>\n",
       "      <td>1.25</td>\n",
       "      <td>12.000000</td>\n",
       "      <td>...</td>\n",
       "      <td>0.000000</td>\n",
       "      <td>0.0</td>\n",
       "      <td>0.000000</td>\n",
       "      <td>12.000000</td>\n",
       "      <td>0.000000</td>\n",
       "      <td>1.25</td>\n",
       "      <td>12.0</td>\n",
       "      <td>12.000000</td>\n",
       "      <td>0.0</td>\n",
       "      <td>0.00000</td>\n",
       "    </tr>\n",
       "    <tr>\n",
       "      <th>16230.0</th>\n",
       "      <td>18</td>\n",
       "      <td>15</td>\n",
       "      <td>24</td>\n",
       "      <td>0.935393</td>\n",
       "      <td>3</td>\n",
       "      <td>False</td>\n",
       "      <td>12</td>\n",
       "      <td>5</td>\n",
       "      <td>3.75</td>\n",
       "      <td>10.625000</td>\n",
       "      <td>...</td>\n",
       "      <td>0.935393</td>\n",
       "      <td>0.0</td>\n",
       "      <td>0.935393</td>\n",
       "      <td>10.625000</td>\n",
       "      <td>3.789377</td>\n",
       "      <td>3.75</td>\n",
       "      <td>24.0</td>\n",
       "      <td>10.625000</td>\n",
       "      <td>0.0</td>\n",
       "      <td>0.00000</td>\n",
       "    </tr>\n",
       "    <tr>\n",
       "      <th>16235.0</th>\n",
       "      <td>2</td>\n",
       "      <td>15</td>\n",
       "      <td>24</td>\n",
       "      <td>3.312724</td>\n",
       "      <td>11</td>\n",
       "      <td>False</td>\n",
       "      <td>42</td>\n",
       "      <td>1</td>\n",
       "      <td>10.75</td>\n",
       "      <td>8.529412</td>\n",
       "      <td>...</td>\n",
       "      <td>3.312724</td>\n",
       "      <td>0.0</td>\n",
       "      <td>3.312724</td>\n",
       "      <td>8.529412</td>\n",
       "      <td>5.510606</td>\n",
       "      <td>10.75</td>\n",
       "      <td>24.0</td>\n",
       "      <td>8.529412</td>\n",
       "      <td>0.0</td>\n",
       "      <td>0.00000</td>\n",
       "    </tr>\n",
       "    <tr>\n",
       "      <th>16239.0</th>\n",
       "      <td>22</td>\n",
       "      <td>9</td>\n",
       "      <td>24</td>\n",
       "      <td>2.894689</td>\n",
       "      <td>3</td>\n",
       "      <td>False</td>\n",
       "      <td>30</td>\n",
       "      <td>6</td>\n",
       "      <td>12.75</td>\n",
       "      <td>12.133333</td>\n",
       "      <td>...</td>\n",
       "      <td>2.894689</td>\n",
       "      <td>0.0</td>\n",
       "      <td>2.894689</td>\n",
       "      <td>12.133333</td>\n",
       "      <td>5.678811</td>\n",
       "      <td>12.75</td>\n",
       "      <td>24.0</td>\n",
       "      <td>12.133333</td>\n",
       "      <td>0.0</td>\n",
       "      <td>0.00000</td>\n",
       "    </tr>\n",
       "  </tbody>\n",
       "</table>\n",
       "<p>10 rows × 27 columns</p>\n",
       "</div>"
      ],
      "text/plain": [
       "            WEEK(first_invoices_time)  HOUR(first_invoices_time)  \\\n",
       "CustomerID                                                         \n",
       "12353.0                            20                         17   \n",
       "16182.0                             7                         10   \n",
       "16186.0                            48                         14   \n",
       "16187.0                             9                         13   \n",
       "16209.0                            14                         12   \n",
       "16218.0                            48                         11   \n",
       "16226.0                            16                         12   \n",
       "16230.0                            18                         15   \n",
       "16235.0                             2                         15   \n",
       "16239.0                            22                          9   \n",
       "\n",
       "            MAX(item_purchases.Quantity)  STD(item_purchases.UnitPrice)  \\\n",
       "CustomerID                                                                \n",
       "12353.0                                8                       3.911122   \n",
       "16182.0                              200                       0.065997   \n",
       "16186.0                               24                       1.349716   \n",
       "16187.0                               30                       3.168892   \n",
       "16209.0                               48                       1.263808   \n",
       "16218.0                               -1                       2.456296   \n",
       "16226.0                               12                       0.000000   \n",
       "16230.0                               24                       0.935393   \n",
       "16235.0                               24                       3.312724   \n",
       "16239.0                               24                       2.894689   \n",
       "\n",
       "            DAY(first_invoices_time)  IS_WEEKEND(first_invoices_time)  \\\n",
       "CustomerID                                                              \n",
       "12353.0                           19                            False   \n",
       "16182.0                           18                            False   \n",
       "16186.0                            2                            False   \n",
       "16187.0                           28                            False   \n",
       "16209.0                            7                            False   \n",
       "16218.0                            1                            False   \n",
       "16226.0                           18                            False   \n",
       "16230.0                            3                            False   \n",
       "16235.0                           11                            False   \n",
       "16239.0                            3                            False   \n",
       "\n",
       "            MINUTE(first_invoices_time)  MONTH(first_invoices_time)  \\\n",
       "CustomerID                                                            \n",
       "12353.0                              47                           5   \n",
       "16182.0                              11                           2   \n",
       "16186.0                              40                          12   \n",
       "16187.0                              34                           2   \n",
       "16209.0                              23                           4   \n",
       "16218.0                              29                          12   \n",
       "16226.0                              58                           4   \n",
       "16230.0                              12                           5   \n",
       "16235.0                              42                           1   \n",
       "16239.0                              30                           6   \n",
       "\n",
       "            MAX(item_purchases.UnitPrice)  MEAN(item_purchases.Quantity)  \\\n",
       "CustomerID                                                                 \n",
       "12353.0                              9.95                       5.000000   \n",
       "16182.0                              1.79                     166.666667   \n",
       "16186.0                              6.25                      13.625000   \n",
       "16187.0                             16.95                      15.166667   \n",
       "16209.0                              5.95                      16.058824   \n",
       "16218.0                              8.15                      -1.833333   \n",
       "16226.0                              1.25                      12.000000   \n",
       "16230.0                              3.75                      10.625000   \n",
       "16235.0                             10.75                       8.529412   \n",
       "16239.0                             12.75                      12.133333   \n",
       "\n",
       "                                ...                       \\\n",
       "CustomerID                      ...                        \n",
       "12353.0                         ...                        \n",
       "16182.0                         ...                        \n",
       "16186.0                         ...                        \n",
       "16187.0                         ...                        \n",
       "16209.0                         ...                        \n",
       "16218.0                         ...                        \n",
       "16226.0                         ...                        \n",
       "16230.0                         ...                        \n",
       "16235.0                         ...                        \n",
       "16239.0                         ...                        \n",
       "\n",
       "            MAX(invoices.STD(item_purchases.UnitPrice))  \\\n",
       "CustomerID                                                \n",
       "12353.0                                        3.911122   \n",
       "16182.0                                        0.065997   \n",
       "16186.0                                        1.349716   \n",
       "16187.0                                        6.798299   \n",
       "16209.0                                        1.263808   \n",
       "16218.0                                        2.456296   \n",
       "16226.0                                        0.000000   \n",
       "16230.0                                        0.935393   \n",
       "16235.0                                        3.312724   \n",
       "16239.0                                        2.894689   \n",
       "\n",
       "            STD(invoices.MAX(item_purchases.Quantity))  \\\n",
       "CustomerID                                               \n",
       "12353.0                                            0.0   \n",
       "16182.0                                            0.0   \n",
       "16186.0                                            0.0   \n",
       "16187.0                                           11.0   \n",
       "16209.0                                            0.0   \n",
       "16218.0                                            0.0   \n",
       "16226.0                                            0.0   \n",
       "16230.0                                            0.0   \n",
       "16235.0                                            0.0   \n",
       "16239.0                                            0.0   \n",
       "\n",
       "            MEAN(invoices.STD(item_purchases.UnitPrice))  \\\n",
       "CustomerID                                                 \n",
       "12353.0                                         3.911122   \n",
       "16182.0                                         0.065997   \n",
       "16186.0                                         1.349716   \n",
       "16187.0                                         3.736879   \n",
       "16209.0                                         1.263808   \n",
       "16218.0                                         2.456296   \n",
       "16226.0                                         0.000000   \n",
       "16230.0                                         0.935393   \n",
       "16235.0                                         3.312724   \n",
       "16239.0                                         2.894689   \n",
       "\n",
       "            MAX(invoices.MEAN(item_purchases.Quantity))  \\\n",
       "CustomerID                                                \n",
       "12353.0                                        5.000000   \n",
       "16182.0                                      166.666667   \n",
       "16186.0                                       13.625000   \n",
       "16187.0                                       16.900000   \n",
       "16209.0                                       16.058824   \n",
       "16218.0                                       -1.833333   \n",
       "16226.0                                       12.000000   \n",
       "16230.0                                       10.625000   \n",
       "16235.0                                        8.529412   \n",
       "16239.0                                       12.133333   \n",
       "\n",
       "            MAX(invoices.STD(item_purchases.Quantity))  \\\n",
       "CustomerID                                               \n",
       "12353.0                                       2.236068   \n",
       "16182.0                                      47.140452   \n",
       "16186.0                                       5.109733   \n",
       "16187.0                                       6.048967   \n",
       "16209.0                                      10.026263   \n",
       "16218.0                                       1.067187   \n",
       "16226.0                                       0.000000   \n",
       "16230.0                                       3.789377   \n",
       "16235.0                                       5.510606   \n",
       "16239.0                                       5.678811   \n",
       "\n",
       "            MEAN(invoices.MAX(item_purchases.UnitPrice))  \\\n",
       "CustomerID                                                 \n",
       "12353.0                                             9.95   \n",
       "16182.0                                             1.79   \n",
       "16186.0                                             6.25   \n",
       "16187.0                                             9.95   \n",
       "16209.0                                             5.95   \n",
       "16218.0                                             8.15   \n",
       "16226.0                                             1.25   \n",
       "16230.0                                             3.75   \n",
       "16235.0                                            10.75   \n",
       "16239.0                                            12.75   \n",
       "\n",
       "            MEAN(invoices.MAX(item_purchases.Quantity))  \\\n",
       "CustomerID                                                \n",
       "12353.0                                             8.0   \n",
       "16182.0                                           200.0   \n",
       "16186.0                                            24.0   \n",
       "16187.0                                            19.0   \n",
       "16209.0                                            48.0   \n",
       "16218.0                                            -1.0   \n",
       "16226.0                                            12.0   \n",
       "16230.0                                            24.0   \n",
       "16235.0                                            24.0   \n",
       "16239.0                                            24.0   \n",
       "\n",
       "            MEAN(invoices.MEAN(item_purchases.Quantity))  \\\n",
       "CustomerID                                                 \n",
       "12353.0                                         5.000000   \n",
       "16182.0                                       166.666667   \n",
       "16186.0                                        13.625000   \n",
       "16187.0                                        11.700000   \n",
       "16209.0                                        16.058824   \n",
       "16218.0                                        -1.833333   \n",
       "16226.0                                        12.000000   \n",
       "16230.0                                        10.625000   \n",
       "16235.0                                         8.529412   \n",
       "16239.0                                        12.133333   \n",
       "\n",
       "            STD(invoices.MAX(item_purchases.UnitPrice))  \\\n",
       "CustomerID                                                \n",
       "12353.0                                             0.0   \n",
       "16182.0                                             0.0   \n",
       "16186.0                                             0.0   \n",
       "16187.0                                             7.0   \n",
       "16209.0                                             0.0   \n",
       "16218.0                                             0.0   \n",
       "16226.0                                             0.0   \n",
       "16230.0                                             0.0   \n",
       "16235.0                                             0.0   \n",
       "16239.0                                             0.0   \n",
       "\n",
       "            STD(invoices.MEAN(item_purchases.UnitPrice))  \n",
       "CustomerID                                                \n",
       "12353.0                                          0.00000  \n",
       "16182.0                                          0.00000  \n",
       "16186.0                                          0.00000  \n",
       "16187.0                                          1.87775  \n",
       "16209.0                                          0.00000  \n",
       "16218.0                                          0.00000  \n",
       "16226.0                                          0.00000  \n",
       "16230.0                                          0.00000  \n",
       "16235.0                                          0.00000  \n",
       "16239.0                                          0.00000  \n",
       "\n",
       "[10 rows x 27 columns]"
      ]
     },
     "execution_count": 7,
     "metadata": {},
     "output_type": "execute_result"
    }
   ],
   "source": [
    "preview(feature_matrix, 10)"
   ]
  },
  {
   "cell_type": "markdown",
   "metadata": {},
   "source": [
    "# Step 4: Let's train a model using Random Forests \n",
    "Now we are ready to train a model and evaluate it. To do this, we:\n",
    "* First split our training examples in train_test_split \n",
    "* Impute missing values \n",
    "* Train a model using training data \n",
    "* Test on the data set aside for testing"
   ]
  },
  {
   "cell_type": "markdown",
   "metadata": {},
   "source": [
    "We can split the data using the function ``train_test_split`` and specifying the proportion we want for testing. In this case we specified that as 35%"
   ]
  },
  {
   "cell_type": "code",
   "execution_count": 8,
   "metadata": {
    "collapsed": true
   },
   "outputs": [],
   "source": [
    "label_times[[\"CustomerID\"]]\n",
    "X_y = feature_matrix.merge(label_times[[\"CustomerID\", 'purchases>threshold']], right_on=\"CustomerID\", left_index=True)\n",
    "y = X_y.pop('purchases>threshold')\n",
    "X_train, X_test, y_train, y_test = train_test_split(feature_matrix, \n",
    "                                                    y, test_size=0.35)"
   ]
  },
  {
   "cell_type": "markdown",
   "metadata": {},
   "source": [
    "We can impute the missing values or ``NaN`` values in the feature_matrix using the ``Imputer`` in scikit-learn. It replaces the ``NaN`` values in a feature column with the ``mean`` of the rest of the entries in that column. This is a simple imputation startegy"
   ]
  },
  {
   "cell_type": "code",
   "execution_count": 9,
   "metadata": {
    "collapsed": true
   },
   "outputs": [],
   "source": [
    "imp = Imputer(missing_values='NaN', strategy='mean', axis=0)\n",
    "imp = imp.fit(X_train)\n",
    "X_train_imp = imp.transform(X_train)"
   ]
  },
  {
   "cell_type": "markdown",
   "metadata": {},
   "source": [
    "We can train a RandomForest classifier (a type of ensemble classifier). We make use of scikit-learn package for this as well. "
   ]
  },
  {
   "cell_type": "code",
   "execution_count": 10,
   "metadata": {
    "collapsed": false
   },
   "outputs": [
    {
     "name": "stderr",
     "output_type": "stream",
     "text": [
      "[Parallel(n_jobs=1)]: Done 100 out of 100 | elapsed:    0.2s finished\n"
     ]
    },
    {
     "data": {
      "text/plain": [
       "RandomForestClassifier(bootstrap=True, class_weight='balanced',\n",
       "            criterion='gini', max_depth=None, max_features='auto',\n",
       "            max_leaf_nodes=None, min_impurity_split=1e-07,\n",
       "            min_samples_leaf=1, min_samples_split=2,\n",
       "            min_weight_fraction_leaf=0.0, n_estimators=100, n_jobs=1,\n",
       "            oob_score=False, random_state=0, verbose=True,\n",
       "            warm_start=False)"
      ]
     },
     "execution_count": 10,
     "metadata": {},
     "output_type": "execute_result"
    }
   ],
   "source": [
    "clf = RandomForestClassifier(random_state=0, n_estimators=100,\n",
    "                             class_weight=\"balanced\", verbose=True)\n",
    "clf.fit(X_train_imp, y_train)"
   ]
  },
  {
   "cell_type": "markdown",
   "metadata": {},
   "source": [
    "# Step 5: Test the model\n",
    "To test a model, we:\n",
    "1. First impute the missing values\n",
    "* Use the trained classifier to predict the labels"
   ]
  },
  {
   "cell_type": "code",
   "execution_count": 11,
   "metadata": {
    "collapsed": false
   },
   "outputs": [
    {
     "name": "stderr",
     "output_type": "stream",
     "text": [
      "[Parallel(n_jobs=1)]: Done 100 out of 100 | elapsed:    0.1s finished\n"
     ]
    }
   ],
   "source": [
    "X_test_imp = imp.transform(X_test)\n",
    "predicted_labels = clf.predict(X_test_imp)"
   ]
  },
  {
   "cell_type": "markdown",
   "metadata": {},
   "source": [
    "We evaluate by calculating"
   ]
  },
  {
   "cell_type": "code",
   "execution_count": 12,
   "metadata": {
    "collapsed": true
   },
   "outputs": [],
   "source": [
    "tn, fp, fn, tp = confusion_matrix(y_test, predicted_labels).ravel()"
   ]
  },
  {
   "cell_type": "code",
   "execution_count": 13,
   "metadata": {
    "collapsed": false
   },
   "outputs": [
    {
     "data": {
      "text/plain": [
       "(217, 4, 50, 4)"
      ]
     },
     "execution_count": 13,
     "metadata": {},
     "output_type": "execute_result"
    }
   ],
   "source": [
    "tn, fp, fn, tp"
   ]
  },
  {
   "cell_type": "code",
   "execution_count": 14,
   "metadata": {
    "collapsed": false
   },
   "outputs": [
    {
     "name": "stdout",
     "output_type": "stream",
     "text": [
      "1: Feature: STD(invoices.MAX(item_purchases.UnitPrice)), 0.062\n",
      "2: Feature: MEAN(item_purchases.UnitPrice), 0.055\n",
      "3: Feature: WEEK(first_invoices_time), 0.050\n",
      "4: Feature: MEAN(invoices.MEAN(item_purchases.UnitPrice)), 0.049\n",
      "5: Feature: DAY(first_invoices_time), 0.049\n",
      "6: Feature: STD(invoices.MEAN(item_purchases.Quantity)), 0.046\n",
      "7: Feature: MEAN(item_purchases.Quantity), 0.045\n",
      "8: Feature: STD(invoices.MEAN(item_purchases.UnitPrice)), 0.044\n",
      "9: Feature: MEAN(invoices.MEAN(item_purchases.Quantity)), 0.043\n",
      "10: Feature: MAX(invoices.MEAN(item_purchases.UnitPrice)), 0.042\n",
      "11: Feature: MAX(invoices.MEAN(item_purchases.Quantity)), 0.041\n",
      "12: Feature: MINUTE(first_invoices_time), 0.040\n",
      "13: Feature: STD(invoices.MAX(item_purchases.Quantity)), 0.038\n",
      "14: Feature: STD(item_purchases.Quantity), 0.035\n",
      "15: Feature: HOUR(first_invoices_time), 0.035\n"
     ]
    }
   ],
   "source": [
    "feature_importances(clf, feature_matrix.columns, n=15)"
   ]
  }
 ],
 "metadata": {
  "kernelspec": {
   "display_name": "Python 2",
   "language": "python",
   "name": "python2"
  },
  "language_info": {
   "codemirror_mode": {
    "name": "ipython",
    "version": 2
   },
   "file_extension": ".py",
   "mimetype": "text/x-python",
   "name": "python",
   "nbconvert_exporter": "python",
   "pygments_lexer": "ipython2",
   "version": "2.7.10"
  }
 },
 "nbformat": 4,
 "nbformat_minor": 2
}
